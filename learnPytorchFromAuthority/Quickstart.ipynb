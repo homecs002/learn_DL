{
 "cells": [
  {
   "cell_type": "code",
   "execution_count": 1,
   "metadata": {},
   "outputs": [
    {
     "name": "stderr",
     "output_type": "stream",
     "text": [
      "d:\\programfiles\\Anaconda\\anaconda\\lib\\site-packages\\torchvision\\io\\image.py:13: UserWarning: Failed to load image Python extension: '[WinError 127] 找不到指定的程序。'If you don't plan on using image functionality from `torchvision.io`, you can ignore this warning. Otherwise, there might be something wrong with your environment. Did you have `libjpeg` or `libpng` installed before building `torchvision` from source?\n",
      "  warn(\n"
     ]
    }
   ],
   "source": [
    "import torch\n",
    "\n",
    "from torch import nn\n",
    "from torch.utils.data import DataLoader, TensorDataset\n",
    "from torchvision import datasets\n",
    "from torchvision.transforms import ToTensor"
   ]
  },
  {
   "cell_type": "code",
   "execution_count": 2,
   "metadata": {},
   "outputs": [],
   "source": [
    "# Download training data from open datasets.\n",
    "traning_data = datasets.FashionMNIST(\n",
    "    root='data', \n",
    "    train=True, \n",
    "    download=True, \n",
    "    transform=ToTensor()\n",
    "    )\n",
    "\n",
    "# Download test data from open datasets.\n",
    "test_data = datasets.FashionMNIST(\n",
    "    root='data', \n",
    "    train=False, \n",
    "    download=True, \n",
    "    transform=ToTensor()\n",
    ")\n"
   ]
  },
  {
   "cell_type": "code",
   "execution_count": 3,
   "metadata": {},
   "outputs": [
    {
     "name": "stdout",
     "output_type": "stream",
     "text": [
      "Shape of X [N, C, H, W]: torch.Size([64, 1, 28, 28])\n",
      "Shape of y: torch.Size([64]) torch.int64\n"
     ]
    }
   ],
   "source": [
    "batch_size = 64\n",
    "\n",
    "# Create data loaders\n",
    "train_dataloader = DataLoader(traning_data, batch_size=batch_size )\n",
    "test_dataloader = DataLoader(test_data, batch_size=batch_size )\n",
    "\n",
    "for X, y in test_dataloader:\n",
    "    print(f'Shape of X [N, C, H, W]: {X.shape}')\n",
    "    print(f'Shape of y: {y.shape} {y.dtype}')\n",
    "    break"
   ]
  },
  {
   "cell_type": "code",
   "execution_count": 4,
   "metadata": {},
   "outputs": [
    {
     "name": "stdout",
     "output_type": "stream",
     "text": [
      "Using cuda device\n"
     ]
    }
   ],
   "source": [
    "# create model\n",
    "device = (\n",
    "    \"cuda\" \n",
    "    if torch.cuda.is_available()\n",
    "    else \"cpu\"\n",
    ")\n",
    "print(f'Using {device} device')\n",
    "\n"
   ]
  },
  {
   "cell_type": "code",
   "execution_count": 5,
   "metadata": {},
   "outputs": [],
   "source": [
    "# Define model\n",
    "class NeuralNetwork(nn.Module):\n",
    "    def __init__(self):\n",
    "        super().__init__()\n",
    "        self.flatten = nn.Flatten()\n",
    "        self.linear_relu_stack = nn.Sequential(\n",
    "            nn.Linear(28 * 28, 512),\n",
    "            nn.ReLU(),\n",
    "            nn.Linear(512, 512),\n",
    "            nn.ReLU(),\n",
    "            nn.Linear(512, 10)\n",
    "        )\n",
    "    \n",
    "    def forward(self, x):\n",
    "        x = self.flatten(x)\n",
    "        logits = self.linear_relu_stack(x)\n",
    "        return logits"
   ]
  },
  {
   "cell_type": "code",
   "execution_count": 6,
   "metadata": {},
   "outputs": [
    {
     "name": "stdout",
     "output_type": "stream",
     "text": [
      "NeuralNetwork(\n",
      "  (flatten): Flatten(start_dim=1, end_dim=-1)\n",
      "  (linear_relu_stack): Sequential(\n",
      "    (0): Linear(in_features=784, out_features=512, bias=True)\n",
      "    (1): ReLU()\n",
      "    (2): Linear(in_features=512, out_features=512, bias=True)\n",
      "    (3): ReLU()\n",
      "    (4): Linear(in_features=512, out_features=10, bias=True)\n",
      "  )\n",
      ")\n"
     ]
    }
   ],
   "source": [
    "model = NeuralNetwork().to(device=device)\n",
    "print(model)"
   ]
  },
  {
   "cell_type": "code",
   "execution_count": 7,
   "metadata": {},
   "outputs": [],
   "source": [
    "loss_fn = nn.CrossEntropyLoss()\n",
    "optimizer = torch.optim.SGD(model.parameters(), lr=1e-3)\n"
   ]
  },
  {
   "cell_type": "code",
   "execution_count": 8,
   "metadata": {},
   "outputs": [],
   "source": [
    "def train(dataloader, model, loss_fn, optimizer):\n",
    "    size = len(dataloader.dataset)\n",
    "    model.train()\n",
    "    for batch, (X, y) in enumerate(dataloader):\n",
    "        X, y = X.to(device), y.to(device)\n",
    "\n",
    "        # Compute prediction error\n",
    "        pred = model(X)\n",
    "        loss = loss_fn(pred, y)\n",
    "\n",
    "        # Backpropagation\n",
    "        loss.backward()\n",
    "        optimizer.step()\n",
    "        optimizer.zero_grad()\n",
    "\n",
    "        if batch % 100 == 0:\n",
    "            loss, current = loss.item(), (batch + 1) * len(X)\n",
    "            print(f'loss: {loss:>7f} [{current:>5d} / {size:>5d}]')\n",
    "            "
   ]
  },
  {
   "cell_type": "code",
   "execution_count": 9,
   "metadata": {},
   "outputs": [],
   "source": [
    "def test(dataloader, model, loss_fn):\n",
    "    size = len(dataloader.dataset)\n",
    "    num_batches = len(dataloader)\n",
    "    model.eval()\n",
    "    test_loss, correct = 0, 0\n",
    "    with torch.no_grad():\n",
    "        for X, y in dataloader:\n",
    "            X, y = X.to(device), y.to(device)\n",
    "            pred = model(X)\n",
    "            test_loss += loss_fn(pred, y).item()\n",
    "            correct += (pred.argmax(1) == y).type(torch.float).sum().item()\n",
    "    test_loss /= num_batches\n",
    "    correct /= size\n",
    "    print(f'Test Error: \\n Accuracy: {(100 * correct):>0.1f}%, Avg loss:{test_loss:>8f}\\n')"
   ]
  },
  {
   "cell_type": "code",
   "execution_count": 10,
   "metadata": {},
   "outputs": [
    {
     "name": "stdout",
     "output_type": "stream",
     "text": [
      "Epoch 1 \n",
      " -------------------------------\n",
      "loss: 2.302062 [   64 / 60000]\n",
      "loss: 2.282287 [ 6464 / 60000]\n",
      "loss: 2.266757 [12864 / 60000]\n",
      "loss: 2.261897 [19264 / 60000]\n",
      "loss: 2.225316 [25664 / 60000]\n",
      "loss: 2.197914 [32064 / 60000]\n",
      "loss: 2.213953 [38464 / 60000]\n",
      "loss: 2.176410 [44864 / 60000]\n",
      "loss: 2.174870 [51264 / 60000]\n",
      "loss: 2.125652 [57664 / 60000]\n",
      "Test Error: \n",
      " Accuracy: 37.1%, Avg loss:2.129580\n",
      "\n",
      "Epoch 2 \n",
      " -------------------------------\n",
      "loss: 2.151627 [   64 / 60000]\n",
      "loss: 2.129806 [ 6464 / 60000]\n",
      "loss: 2.074414 [12864 / 60000]\n",
      "loss: 2.093127 [19264 / 60000]\n",
      "loss: 2.014099 [25664 / 60000]\n",
      "loss: 1.961733 [32064 / 60000]\n",
      "loss: 1.999536 [38464 / 60000]\n",
      "loss: 1.913490 [44864 / 60000]\n",
      "loss: 1.922060 [51264 / 60000]\n",
      "loss: 1.835779 [57664 / 60000]\n",
      "Test Error: \n",
      " Accuracy: 48.9%, Avg loss:1.838841\n",
      "\n",
      "Epoch 3 \n",
      " -------------------------------\n",
      "loss: 1.885498 [   64 / 60000]\n",
      "loss: 1.838495 [ 6464 / 60000]\n",
      "loss: 1.727560 [12864 / 60000]\n",
      "loss: 1.776111 [19264 / 60000]\n",
      "loss: 1.639324 [25664 / 60000]\n",
      "loss: 1.613446 [32064 / 60000]\n",
      "loss: 1.643100 [38464 / 60000]\n",
      "loss: 1.546680 [44864 / 60000]\n",
      "loss: 1.572117 [51264 / 60000]\n",
      "loss: 1.464808 [57664 / 60000]\n",
      "Test Error: \n",
      " Accuracy: 59.6%, Avg loss:1.481369\n",
      "\n",
      "Epoch 4 \n",
      " -------------------------------\n",
      "loss: 1.558791 [   64 / 60000]\n",
      "loss: 1.508645 [ 6464 / 60000]\n",
      "loss: 1.369584 [12864 / 60000]\n",
      "loss: 1.447656 [19264 / 60000]\n",
      "loss: 1.312664 [25664 / 60000]\n",
      "loss: 1.327457 [32064 / 60000]\n",
      "loss: 1.346888 [38464 / 60000]\n",
      "loss: 1.274440 [44864 / 60000]\n",
      "loss: 1.304901 [51264 / 60000]\n",
      "loss: 1.204539 [57664 / 60000]\n",
      "Test Error: \n",
      " Accuracy: 63.1%, Avg loss:1.229467\n",
      "\n",
      "Epoch 5 \n",
      " -------------------------------\n",
      "loss: 1.311945 [   64 / 60000]\n",
      "loss: 1.278338 [ 6464 / 60000]\n",
      "loss: 1.123668 [12864 / 60000]\n",
      "loss: 1.236261 [19264 / 60000]\n",
      "loss: 1.098190 [25664 / 60000]\n",
      "loss: 1.134722 [32064 / 60000]\n",
      "loss: 1.162640 [38464 / 60000]\n",
      "loss: 1.101859 [44864 / 60000]\n",
      "loss: 1.135762 [51264 / 60000]\n",
      "loss: 1.046508 [57664 / 60000]\n",
      "Test Error: \n",
      " Accuracy: 64.8%, Avg loss:1.070865\n",
      "\n",
      "Done!\n"
     ]
    }
   ],
   "source": [
    "epochs = 5\n",
    "for t in range(epochs):\n",
    "    print(f'Epoch {t + 1} \\n -------------------------------')\n",
    "    train(train_dataloader, model, loss_fn, optimizer)\n",
    "    test(test_dataloader, model, loss_fn)\n",
    "print(\"Done!\")"
   ]
  },
  {
   "cell_type": "code",
   "execution_count": 11,
   "metadata": {},
   "outputs": [
    {
     "name": "stdout",
     "output_type": "stream",
     "text": [
      "Saved PyTorch Model State to model.pth\n"
     ]
    }
   ],
   "source": [
    "# saving models\n",
    "torch.save(model.state_dict(), \"model.pth\")\n",
    "print(\"Saved PyTorch Model State to model.pth\")"
   ]
  },
  {
   "cell_type": "code",
   "execution_count": 12,
   "metadata": {},
   "outputs": [
    {
     "data": {
      "text/plain": [
       "<All keys matched successfully>"
      ]
     },
     "execution_count": 12,
     "metadata": {},
     "output_type": "execute_result"
    }
   ],
   "source": [
    "# Loading Model\n",
    "model = NeuralNetwork().to(device)  # 要先创建一个模型，才能load进数据\n",
    "model.load_state_dict(torch.load(\"model.pth\"))"
   ]
  },
  {
   "cell_type": "code",
   "execution_count": 13,
   "metadata": {},
   "outputs": [
    {
     "name": "stdout",
     "output_type": "stream",
     "text": [
      "Predicted: \"Ankle boot\", Actual: \"Ankle boot\"\n"
     ]
    }
   ],
   "source": [
    "classes = [\n",
    "    \"T-shirt/top\",\n",
    "    \"Trouser\",\n",
    "    \"Pullover\",\n",
    "    \"Dress\",\n",
    "    \"Coat\",\n",
    "    \"Sandal\",\n",
    "    \"Shirt\",\n",
    "    \"Sneaker\",\n",
    "    \"Bag\",\n",
    "    \"Ankle boot\",\n",
    "]\n",
    "\n",
    "model.eval()   # 把模型改为推理状态\n",
    "x, y = test_data[0][0], test_data[0][1]\n",
    "with torch.no_grad():\n",
    "    x = x.to(device)\n",
    "    pred = model(x)\n",
    "    predicted, actual = classes[pred[0].argmax(0)], classes[y]\n",
    "    print(f'Predicted: \"{predicted}\", Actual: \"{actual}\"')"
   ]
  },
  {
   "cell_type": "code",
   "execution_count": null,
   "metadata": {},
   "outputs": [],
   "source": []
  }
 ],
 "metadata": {
  "kernelspec": {
   "display_name": "base",
   "language": "python",
   "name": "python3"
  },
  "language_info": {
   "codemirror_mode": {
    "name": "ipython",
    "version": 3
   },
   "file_extension": ".py",
   "mimetype": "text/x-python",
   "name": "python",
   "nbconvert_exporter": "python",
   "pygments_lexer": "ipython3",
   "version": "3.9.18"
  }
 },
 "nbformat": 4,
 "nbformat_minor": 2
}
